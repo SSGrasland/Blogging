{
 "cells": [
  {
   "cell_type": "markdown",
   "id": "b117319d-d154-4dd4-b88f-215368f9b07d",
   "metadata": {},
   "source": [
    "# FBN Scraping "
   ]
  },
  {
   "cell_type": "markdown",
   "id": "bc32bf44-5ac5-4e29-bdee-6dab80496e27",
   "metadata": {},
   "source": [
    "## Converting From PDF to Text"
   ]
  },
  {
   "cell_type": "code",
   "execution_count": 2,
   "id": "2c914fb3-6ffe-4a2b-b170-2783d9a82442",
   "metadata": {},
   "outputs": [],
   "source": [
    "#Importing the needed library to convert PDF to text\n",
    "import pdfplumber\n",
    "\n",
    "#extracting the PDF\n",
    "def extract_text_from_pdf(pdf_path):\n",
    "    with pdfplumber.open(pdf_path) as pdf:\n",
    "        text = ''\n",
    "        for page in pdf.pages:\n",
    "            text += page.extract_text()\n",
    "    return text\n",
    "\n",
    "# Replace pdf_path with the actual path to your PDF file\n",
    "pdf_path = r\"C:\\Users\\SalomeGrasland\\Desktop\\Blogging\\This is a sample PDF.pdf\"\n",
    "\n",
    "#variable containing text called extracted_text\n",
    "extracted_text = extract_text_from_pdf(pdf_path)\n"
   ]
  },
  {
   "cell_type": "code",
   "execution_count": 3,
   "id": "a15ca3dc-ed82-47cf-90f0-480f9544b850",
   "metadata": {},
   "outputs": [],
   "source": [
    "#Downloading the text file \n",
    "#Change the name to what you would like to save it as\n",
    "with open('PDFtoT.txt', 'w', encoding='utf-8') as file:\n",
    "    file.write(extracted_text)"
   ]
  },
  {
   "cell_type": "code",
   "execution_count": null,
   "id": "a9749c8d-a6fb-465b-b202-87522099cccd",
   "metadata": {},
   "outputs": [],
   "source": []
  }
 ],
 "metadata": {
  "kernelspec": {
   "display_name": "Python 3 (ipykernel)",
   "language": "python",
   "name": "python3"
  },
  "language_info": {
   "codemirror_mode": {
    "name": "ipython",
    "version": 3
   },
   "file_extension": ".py",
   "mimetype": "text/x-python",
   "name": "python",
   "nbconvert_exporter": "python",
   "pygments_lexer": "ipython3",
   "version": "3.11.7"
  }
 },
 "nbformat": 4,
 "nbformat_minor": 5
}
