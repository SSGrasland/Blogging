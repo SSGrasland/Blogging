


#Importing the needed library to convert PDF to text
import pdfplumber

#extracting the PDF
def extract_text_from_pdf(pdf_path):
    with pdfplumber.open(pdf_path) as pdf:
        text = ''
        for page in pdf.pages:
            text += page.extract_text()
    return text

# Replace pdf_path with the actual path to your PDF file
pdf_path = r"C:\Users\SalomeGrasland\Desktop\Blogging\This is a sample PDF.pdf"

#variable containing text called extracted_text
extracted_text = extract_text_from_pdf(pdf_path)


#Downloading the text file 
#Change the name to what you would like to save it as
with open('PDFtoT.txt', 'w', encoding='utf-8') as file:
    file.write(extracted_text)



