{
 "cells": [
  {
   "cell_type": "markdown",
   "id": "c2178445-d5c2-415a-aa2a-1add17bea709",
   "metadata": {},
   "source": [
    "# Converting PDF to Text"
   ]
  },
  {
   "cell_type": "markdown",
   "id": "992159d3-7671-4644-8fb6-43022aa1815b",
   "metadata": {},
   "source": [
    "#Importing the needed library to convert PDF to text\n",
    "import pdfplumber\n",
    "\n",
    "#extracting the PDF\n",
    "def extract_text_from_pdf(pdf_path):\n",
    "    with pdfplumber.open(pdf_path) as pdf:\n",
    "        text = ''\n",
    "        for page in pdf.pages:\n",
    "            text += page.extract_text()\n",
    "    return text\n",
    "\n",
    "# Replace pdf_path with the actual path to your PDF file\n",
    "pdf_path = r\"C:\\Users\\SalomeGrasland\\Desktop\\Blogging\\This is a sample PDF.pdf\"\n",
    "\n",
    "#variable containing text called extracted_text\n",
    "extracted_text = extract_text_from_pdf(pdf_path)"
   ]
  },
  {
   "cell_type": "code",
   "execution_count": 1,
   "id": "fbd1dcf1-1276-4086-b329-273623b3d433",
   "metadata": {},
   "outputs": [
    {
     "ename": "NameError",
     "evalue": "name 'extracted_text' is not defined",
     "output_type": "error",
     "traceback": [
      "\u001b[1;31m---------------------------------------------------------------------------\u001b[0m",
      "\u001b[1;31mNameError\u001b[0m                                 Traceback (most recent call last)",
      "Cell \u001b[1;32mIn[1], line 4\u001b[0m\n\u001b[0;32m      1\u001b[0m \u001b[38;5;66;03m#Downloading the text file \u001b[39;00m\n\u001b[0;32m      2\u001b[0m \u001b[38;5;66;03m#Change the name to what you would like to save it as\u001b[39;00m\n\u001b[0;32m      3\u001b[0m \u001b[38;5;28;01mwith\u001b[39;00m \u001b[38;5;28mopen\u001b[39m(\u001b[38;5;124m'\u001b[39m\u001b[38;5;124mPDFtoT.txt\u001b[39m\u001b[38;5;124m'\u001b[39m, \u001b[38;5;124m'\u001b[39m\u001b[38;5;124mw\u001b[39m\u001b[38;5;124m'\u001b[39m, encoding\u001b[38;5;241m=\u001b[39m\u001b[38;5;124m'\u001b[39m\u001b[38;5;124mutf-8\u001b[39m\u001b[38;5;124m'\u001b[39m) \u001b[38;5;28;01mas\u001b[39;00m file:\n\u001b[1;32m----> 4\u001b[0m     file\u001b[38;5;241m.\u001b[39mwrite(extracted_text)\n",
      "\u001b[1;31mNameError\u001b[0m: name 'extracted_text' is not defined"
     ]
    }
   ],
   "source": [
    "#Downloading the text file \n",
    "#Change the name to what you would like to save it as\n",
    "with open('PDFtoT.txt', 'w', encoding='utf-8') as file:\n",
    "    file.write(extracted_text)"
   ]
  },
  {
   "cell_type": "code",
   "execution_count": null,
   "id": "67956aa1-4b7f-4ca7-9710-61b98ca1fc80",
   "metadata": {},
   "outputs": [],
   "source": []
  }
 ],
 "metadata": {
  "kernelspec": {
   "display_name": "Python 3 (ipykernel)",
   "language": "python",
   "name": "python3"
  },
  "language_info": {
   "codemirror_mode": {
    "name": "ipython",
    "version": 3
   },
   "file_extension": ".py",
   "mimetype": "text/x-python",
   "name": "python",
   "nbconvert_exporter": "python",
   "pygments_lexer": "ipython3",
   "version": "3.11.7"
  }
 },
 "nbformat": 4,
 "nbformat_minor": 5
}
