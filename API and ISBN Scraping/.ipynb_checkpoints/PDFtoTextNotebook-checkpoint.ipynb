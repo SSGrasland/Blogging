{
 "cells": [
  {
   "cell_type": "markdown",
   "id": "9812944d-c82a-48fb-93cf-02b049800368",
   "metadata": {},
   "source": [
    "# Converting From PDF to Text"
   ]
  },
  {
   "cell_type": "code",
   "execution_count": 2,
   "id": "002f0ca6-ce7a-4bd4-be51-215d4af0d0e1",
   "metadata": {},
   "outputs": [],
   "source": [
    "#Importing the needed library to convert PDF to text\n",
    "import pdfplumber\n",
    "\n",
    "#extracting the PDF\n",
    "def extract_text_from_pdf(pdf_path):\n",
    "    with pdfplumber.open(pdf_path) as pdf:\n",
    "        text = ''\n",
    "        for page in pdf.pages:\n",
    "            text += page.extract_text()\n",
    "    return text\n",
    "\n",
    "# Replace pdf_path with the actual path to your PDF file\n",
    "pdf_path = r\"C:\\Users\\SalomeGrasland\\Desktop\\Blogging\\This is a sample PDF.pdf\"\n",
    "\n",
    "#variable containing text called extracted_text\n",
    "extracted_text = extract_text_from_pdf(pdf_path)\n"
   ]
  },
  {
   "cell_type": "code",
   "execution_count": 3,
   "id": "ade61522-de1b-4536-ba03-d7b476258ba2",
   "metadata": {},
   "outputs": [],
   "source": [
    "#Downloading the text file \n",
    "#Change the name to what you would like to save it as\n",
    "with open('PDFtoT.txt', 'w', encoding='utf-8') as file:\n",
    "    file.write(extracted_text)"
   ]
  },
  {
   "cell_type": "code",
   "execution_count": null,
   "id": "3fbe8413-9570-489b-8d3c-1f0e6158819b",
   "metadata": {},
   "outputs": [],
   "source": []
  }
 ],
 "metadata": {
  "kernelspec": {
   "display_name": "Python 3 (ipykernel)",
   "language": "python",
   "name": "python3"
  },
  "language_info": {
   "codemirror_mode": {
    "name": "ipython",
    "version": 3
   },
   "file_extension": ".py",
   "mimetype": "text/x-python",
   "name": "python",
   "nbconvert_exporter": "python",
   "pygments_lexer": "ipython3",
   "version": "3.11.7"
  }
 },
 "nbformat": 4,
 "nbformat_minor": 5
}
