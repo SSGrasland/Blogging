{
 "cells": [
  {
   "cell_type": "markdown",
   "id": "64ede588-8a00-4c16-89ae-5d5f59fd7f5a",
   "metadata": {},
   "source": [
    "# Using Python to Scrape ISBNs from a Text Document"
   ]
  },
  {
   "cell_type": "markdown",
   "id": "20ca551f-a6c4-46bb-9029-b6f061e78142",
   "metadata": {},
   "source": [
    "## Generating a text document with random words, numbers, and ISBNs"
   ]
  },
  {
   "cell_type": "code",
   "execution_count": 5,
   "id": "52b86aeb-a03c-4aea-baa0-2cd9a2efc26a",
   "metadata": {},
   "outputs": [
    {
     "name": "stdout",
     "output_type": "stream",
     "text": [
      "File created: random_data.txt\n"
     ]
    }
   ],
   "source": [
    "import random\n",
    "from faker import Faker\n",
    "\n",
    "# Initialize Faker\n",
    "fake = Faker()\n",
    "\n",
    "# Generate random words\n",
    "words = [fake.word() for _ in range(10)]\n",
    "\n",
    "# Generate random ISBNs\n",
    "isbns = [fake.isbn13() for _ in range(10)]\n",
    "\n",
    "# Generate random zip codes and dates\n",
    "zip_codes = [fake.zipcode() for _ in range(10)]\n",
    "dates = [fake.date() for _ in range(10)]\n",
    "\n",
    "# Combine lists into a single string with newlines\n",
    "random_text = \"\\n\".join([\n",
    "    \"Random Words:\",\n",
    "    *words,\n",
    "    \"\\nRandom ISBNs:\",\n",
    "    *isbns,\n",
    "    \"\\nRandom Zip Codes:\",\n",
    "    *zip_codes,\n",
    "    \"\\nRandom Dates:\",\n",
    "    *dates\n",
    "])\n",
    "\n",
    "# Write to a text file\n",
    "with open(\"random_data.txt\", \"w\") as file:\n",
    "    file.write(content)\n",
    "\n",
    "print(\"File created: random_data.txt\")"
   ]
  },
  {
   "cell_type": "markdown",
   "id": "68c4a30b-effd-400b-9db4-ff9cccc98e9e",
   "metadata": {},
   "source": [
    "## Parsing ISBNs\n",
    "\n",
    "#### Using RegEx we can distinguish the ISBNs from the random text"
   ]
  },
  {
   "cell_type": "code",
   "execution_count": 8,
   "id": "f89e8830-3960-48f7-99c5-f05350276bd3",
   "metadata": {},
   "outputs": [
    {
     "name": "stdout",
     "output_type": "stream",
     "text": [
      "Cleaned ISBNs: ['978-1-72445-406-5', '978-1-5137-1207-9', '978-0-309-00547-0', '978-0-10-759455-8', '978-0-7177-4640-8', '978-0-621-37483-4', '978-0-360-97199-8', '978-1-352-75516-9', '978-1-116-25368-9', '978-0-491-65269-8']\n"
     ]
    }
   ],
   "source": [
    "#extracting ISBNs from thext \n",
    "#importing the library\n",
    "import re\n",
    "\n",
    "#defining the regex used \n",
    "def extract_isbns(text):\n",
    "    # Define a regex pattern to match strings of numbers with dashes\n",
    "    isbn_pattern = r\"((978[-– ])?[0-9][0-9-– ]{10}[-– ][0-9xX])|((978)?[0-9]{9}[0-9Xx])\"\n",
    "\n",
    "    # Find all matches of the ISBN pattern in the text\n",
    "    isbns = re.findall(isbn_pattern, text)\n",
    "\n",
    "    return isbns\n",
    "\n",
    "# Extract ISBNs from the example text\n",
    "isbns_found = extract_isbns(random_text)\n",
    "\n",
    "# Extract only the portions with numbers and dashes\n",
    "isbns_found = [isbn[0] for isbn in isbns_found]\n",
    "\n",
    "print(\"Cleaned ISBNs:\", isbns_found)"
   ]
  }
 ],
 "metadata": {
  "kernelspec": {
   "display_name": "Python 3 (ipykernel)",
   "language": "python",
   "name": "python3"
  },
  "language_info": {
   "codemirror_mode": {
    "name": "ipython",
    "version": 3
   },
   "file_extension": ".py",
   "mimetype": "text/x-python",
   "name": "python",
   "nbconvert_exporter": "python",
   "pygments_lexer": "ipython3",
   "version": "3.11.7"
  }
 },
 "nbformat": 4,
 "nbformat_minor": 5
}
